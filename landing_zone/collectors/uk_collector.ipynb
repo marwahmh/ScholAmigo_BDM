{
 "cells": [
  {
   "cell_type": "code",
   "execution_count": 2,
   "metadata": {},
   "outputs": [],
   "source": [
    "import requests\n",
    "from bs4 import BeautifulSoup\n",
    "import json\n"
   ]
  },
  {
   "cell_type": "code",
   "execution_count": 3,
   "metadata": {},
   "outputs": [],
   "source": [
    "program_links = ['https://www.chevening.org','https://www.manchester.ac.uk/study/international/finance-and-scholarships']"
   ]
  },
  {
   "cell_type": "code",
   "execution_count": 4,
   "metadata": {},
   "outputs": [
    {
     "name": "stdout",
     "output_type": "stream",
     "text": [
      "Saved: program_p_uk1.json\n",
      "Saved: program_p_uk2.json\n"
     ]
    }
   ],
   "source": [
    "from urllib.parse import urljoin\n",
    "from urllib.parse import urlparse\n",
    "\n",
    "import requests\n",
    "from bs4 import BeautifulSoup\n",
    "\n",
    "i = 1\n",
    "programs_json = {}\n",
    "\n",
    "headers = {\n",
    "    \"User-Agent\": \"Mozilla/5.0 (Windows NT 10.0; Win64; x64) AppleWebKit/537.36 (KHTML, like Gecko) Chrome/58.0.3029.110 Safari/537.3\"\n",
    "}\n",
    "\n",
    "for link in program_links:\n",
    "    try:\n",
    "\n",
    "        programs_json[f\"p{i}\"] = {\n",
    "            \"url\": link,\n",
    "            \"pages\": []\n",
    "        }\n",
    "\n",
    "        page = requests.get(link, headers=headers, timeout=10)  # Set timeout to avoid hanging\n",
    "        page.raise_for_status()  # Raise error for HTTP issues (e.g., 404, 500)\n",
    "        soup = BeautifulSoup(page.content, \"html.parser\")\n",
    "\n",
    "        canonical_tag = soup.find(\"link\", rel=\"canonical\")\n",
    "        if canonical_tag and canonical_tag.get('href'):\n",
    "            program_base = urljoin(link, canonical_tag['href'])\n",
    "        else:\n",
    "            program_base = link  # Fallback to the original link if no canonical tag\n",
    "\n",
    "        programs_json[f\"p{i}\"][\"pages\"].append({\"url\": program_base,\n",
    "        \"html\":BeautifulSoup(requests.get(program_base, headers=headers).text, \"html.parser\").prettify()\n",
    "        })\n",
    "\n",
    "        sub_links = soup.find_all(\"a\", href=True)\n",
    "        \n",
    "        for sub_link in sub_links:\n",
    "            full_sub_link_url = urljoin(link, sub_link['href'])\n",
    "            # program_base_without_www = program_base.replace('www.', '')\n",
    "            if not full_sub_link_url.lower().startswith(('http://', 'https://')):\n",
    "                continue\n",
    "            parsed_url = urlparse(program_base)\n",
    "            domain = parsed_url.netloc\n",
    "            normalized_program_base = domain.replace('www.', '')\n",
    "            if normalized_program_base in full_sub_link_url and 'http' in full_sub_link_url and not any(d[\"url\"] == full_sub_link_url for d in programs_json[f\"p{i}\"][\"pages\"]):\n",
    "                programs_json[f\"p{i}\"][\"pages\"].append({\"url\": full_sub_link_url,         \n",
    "                \"html\": BeautifulSoup(requests.get(full_sub_link_url, headers=headers).text, \"html.parser\").prettify()\n",
    "        })\n",
    "\n",
    "        filename = f\"program_p_uk{i}.json\"\n",
    "        with open(filename, \"w\", encoding=\"utf-8\") as f:\n",
    "            json.dump( programs_json[f\"p{i}\"], f, indent=4, ensure_ascii=False)\n",
    "\n",
    "        print(f\"Saved: {filename}\")  # Indicate progress\n",
    "\n",
    "    except (requests.RequestException, ValueError) as e:\n",
    "        print(f\"Skipping {link} due to error: {e}\")\n",
    "        continue  # Skip this site and move to the next one\n",
    "\n",
    "    i += 1\n"
   ]
  }
 ],
 "metadata": {
  "kernelspec": {
   "display_name": "bdm",
   "language": "python",
   "name": "python3"
  },
  "language_info": {
   "codemirror_mode": {
    "name": "ipython",
    "version": 3
   },
   "file_extension": ".py",
   "mimetype": "text/x-python",
   "name": "python",
   "nbconvert_exporter": "python",
   "pygments_lexer": "ipython3",
   "version": "3.12.9"
  }
 },
 "nbformat": 4,
 "nbformat_minor": 2
}
