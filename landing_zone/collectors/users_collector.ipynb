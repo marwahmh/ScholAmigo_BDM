{
 "cells": [
  {
   "cell_type": "code",
   "execution_count": 2,
   "id": "d3e68fb8",
   "metadata": {},
   "outputs": [
    {
     "name": "stdout",
     "output_type": "stream",
     "text": [
      "Path to dataset files: /Users/sarasaad/.cache/kagglehub/datasets/anthonytherrien/synthetic-student-profiles-dataset/versions/1\n",
      "📁 Copied: student_profiles.jsonl\n",
      "\n",
      " Done. 1 files copied to: /Users/sarasaad/Documents/BDMA /UPC/BDM/Project/BDM Scholamigo/ScholAmigo_BDM/landing_zone/collectors/../data/users_data\n"
     ]
    }
   ],
   "source": [
    "import kagglehub\n",
    "import os\n",
    "import shutil\n",
    "\n",
    "# Download Kaggle dataset (stored in cache by default)\n",
    "path = kagglehub.dataset_download(\"anthonytherrien/synthetic-student-profiles-dataset\")\n",
    "print(\"Path to dataset files:\", path)\n",
    "\n",
    "# Define the target directory relative to the current working directory\n",
    "BASE_DIR = os.getcwd()\n",
    "target_dir = os.path.join(BASE_DIR, \"..\", \"data\", \"users_data\")\n",
    "os.makedirs(target_dir, exist_ok=True)\n",
    "\n",
    "# Recursively copy all files from the Kaggle download directory\n",
    "files_copied = 0\n",
    "for root, _, files in os.walk(path):\n",
    "    for file in files:\n",
    "        src = os.path.join(root, file)\n",
    "        dst = os.path.join(target_dir, file)\n",
    "        shutil.copy2(src, dst)\n",
    "        print(f\"📁 Copied: {file}\")\n",
    "        files_copied += 1\n",
    "\n",
    "print(f\"\\n Done. {files_copied} files copied to: {target_dir}\")\n"
   ]
  }
 ],
 "metadata": {
  "kernelspec": {
   "display_name": "Python 3",
   "language": "python",
   "name": "python3"
  },
  "language_info": {
   "codemirror_mode": {
    "name": "ipython",
    "version": 3
   },
   "file_extension": ".py",
   "mimetype": "text/x-python",
   "name": "python",
   "nbconvert_exporter": "python",
   "pygments_lexer": "ipython3",
   "version": "3.9.6"
  }
 },
 "nbformat": 4,
 "nbformat_minor": 5
}
